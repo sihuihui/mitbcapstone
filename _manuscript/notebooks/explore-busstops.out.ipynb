{
 "cells": [
  {
   "cell_type": "markdown",
   "metadata": {},
   "source": [
    "# Exploring the Data - Bus Stops\n",
    "\n",
    "Goh Si Hui  \n",
    "September 8, 2024\n",
    "\n",
    "# Getting Started\n",
    "\n",
    "## Downloading the packages"
   ],
   "id": "89d219d0-b122-4621-9def-2cd419342e2c"
  },
  {
   "cell_type": "code",
   "execution_count": null,
   "metadata": {},
   "outputs": [],
   "source": [
    "pacman::p_load(tmap, sf, DT, stplanr, tidyverse)\n"
   ],
   "id": "78f3cbfc-219d-44e7-9b2b-315d31c2ba92"
  },
  {
   "cell_type": "markdown",
   "metadata": {},
   "source": [
    "# Importing the Data\n",
    "\n",
    "## Passenger Volume by Origin Destination Bus Stops\n",
    "\n",
    "## Apr 2024\n",
    "\n",
    "``` r\n",
    "odbus_apr <- read_csv(\"data/aspatial/origin_destination_bus_202404.csv\")\n",
    "```\n",
    "\n",
    "    Rows: 5667461 Columns: 7\n",
    "    ── Column specification ────────────────────────────────────────────────────────\n",
    "    Delimiter: \",\"\n",
    "    chr (5): YEAR_MONTH, DAY_TYPE, PT_TYPE, ORIGIN_PT_CODE, DESTINATION_PT_CODE\n",
    "    dbl (2): TIME_PER_HOUR, TOTAL_TRIPS\n",
    "\n",
    "    ℹ Use `spec()` to retrieve the full column specification for this data.\n",
    "    ℹ Specify the column types or set `show_col_types = FALSE` to quiet this message.\n",
    "\n",
    "## May 2024\n",
    "\n",
    "``` r\n",
    "odbus_may <- read_csv(\"data/aspatial/origin_destination_bus_202405.csv\")\n",
    "```\n",
    "\n",
    "    Rows: 5731170 Columns: 7\n",
    "    ── Column specification ────────────────────────────────────────────────────────\n",
    "    Delimiter: \",\"\n",
    "    chr (5): YEAR_MONTH, DAY_TYPE, PT_TYPE, ORIGIN_PT_CODE, DESTINATION_PT_CODE\n",
    "    dbl (2): TIME_PER_HOUR, TOTAL_TRIPS\n",
    "\n",
    "    ℹ Use `spec()` to retrieve the full column specification for this data.\n",
    "    ℹ Specify the column types or set `show_col_types = FALSE` to quiet this message.\n",
    "\n",
    "## Jun 2024\n",
    "\n",
    "``` r\n",
    "odbus_jun <- read_csv(\"data/aspatial/origin_destination_bus_202406.csv\")\n",
    "```\n",
    "\n",
    "    Rows: 5658443 Columns: 7\n",
    "    ── Column specification ────────────────────────────────────────────────────────\n",
    "    Delimiter: \",\"\n",
    "    chr (5): YEAR_MONTH, DAY_TYPE, PT_TYPE, ORIGIN_PT_CODE, DESTINATION_PT_CODE\n",
    "    dbl (2): TIME_PER_HOUR, TOTAL_TRIPS\n",
    "\n",
    "    ℹ Use `spec()` to retrieve the full column specification for this data.\n",
    "    ℹ Specify the column types or set `show_col_types = FALSE` to quiet this message.\n",
    "\n",
    "Checking the data\n",
    "\n",
    "## Apr 2024\n",
    "\n",
    "``` r\n",
    "glimpse(odbus_apr)\n",
    "```\n",
    "\n",
    "    Rows: 5,667,461\n",
    "    Columns: 7\n",
    "    $ YEAR_MONTH          <chr> \"2024-04\", \"2024-04\", \"2024-04\", \"2024-04\", \"2024-…\n",
    "    $ DAY_TYPE            <chr> \"WEEKENDS/HOLIDAY\", \"WEEKDAY\", \"WEEKENDS/HOLIDAY\",…\n",
    "    $ TIME_PER_HOUR       <dbl> 16, 16, 14, 14, 17, 17, 17, 17, 7, 17, 14, 10, 20,…\n",
    "    $ PT_TYPE             <chr> \"BUS\", \"BUS\", \"BUS\", \"BUS\", \"BUS\", \"BUS\", \"BUS\", \"…\n",
    "    $ ORIGIN_PT_CODE      <chr> \"04168\", \"04168\", \"80119\", \"80119\", \"44069\", \"4406…\n",
    "    $ DESTINATION_PT_CODE <chr> \"10051\", \"10051\", \"90079\", \"90079\", \"17229\", \"1722…\n",
    "    $ TOTAL_TRIPS         <dbl> 2, 9, 6, 8, 1, 2, 17, 2, 6, 2, 5, 3, 7, 1, 5, 2, 1…\n",
    "\n",
    "## May 2024\n",
    "\n",
    "``` r\n",
    "glimpse(odbus_may)\n",
    "```\n",
    "\n",
    "    Rows: 5,731,170\n",
    "    Columns: 7\n",
    "    $ YEAR_MONTH          <chr> \"2024-05\", \"2024-05\", \"2024-05\", \"2024-05\", \"2024-…\n",
    "    $ DAY_TYPE            <chr> \"WEEKDAY\", \"WEEKENDS/HOLIDAY\", \"WEEKDAY\", \"WEEKDAY…\n",
    "    $ TIME_PER_HOUR       <dbl> 17, 10, 10, 7, 7, 11, 16, 16, 16, 5, 11, 11, 18, 1…\n",
    "    $ PT_TYPE             <chr> \"BUS\", \"BUS\", \"BUS\", \"BUS\", \"BUS\", \"BUS\", \"BUS\", \"…\n",
    "    $ ORIGIN_PT_CODE      <chr> \"24499\", \"65239\", \"65239\", \"23519\", \"23519\", \"5250…\n",
    "    $ DESTINATION_PT_CODE <chr> \"22221\", \"65159\", \"65159\", \"23311\", \"23311\", \"4204…\n",
    "    $ TOTAL_TRIPS         <dbl> 3, 3, 3, 1, 1, 2, 15, 3, 2, 1, 2, 4, 5, 4, 9, 43, …\n",
    "\n",
    "## Jun 2024\n",
    "\n",
    "``` r\n",
    "glimpse(odbus_jun)\n",
    "```\n",
    "\n",
    "    Rows: 5,658,443\n",
    "    Columns: 7\n",
    "    $ YEAR_MONTH          <chr> \"2024-06\", \"2024-06\", \"2024-06\", \"2024-06\", \"2024-…\n",
    "    $ DAY_TYPE            <chr> \"WEEKENDS/HOLIDAY\", \"WEEKDAY\", \"WEEKENDS/HOLIDAY\",…\n",
    "    $ TIME_PER_HOUR       <dbl> 21, 17, 9, 14, 13, 6, 0, 22, 8, 18, 12, 19, 10, 10…\n",
    "    $ PT_TYPE             <chr> \"BUS\", \"BUS\", \"BUS\", \"BUS\", \"BUS\", \"BUS\", \"BUS\", \"…\n",
    "    $ ORIGIN_PT_CODE      <chr> \"82159\", \"98299\", \"43051\", \"59479\", \"52069\", \"2142…\n",
    "    $ DESTINATION_PT_CODE <chr> \"01119\", \"97051\", \"44389\", \"59509\", \"52189\", \"0917…\n",
    "    $ TOTAL_TRIPS         <dbl> 1, 43, 7, 1, 20, 2, 2, 3, 36, 15, 1, 2, 65, 1, 11,…\n",
    "\n",
    "Convert the origin and destination codes into factors\n",
    "\n",
    "## Apr 2024\n",
    "\n",
    "``` r\n",
    "odbus_apr$ORIGIN_PT_CODE <- as.factor(odbus_apr$ORIGIN_PT_CODE)\n",
    "\n",
    "odbus_apr$DESTINATION_PT_CODE <- as.factor(odbus_apr$DESTINATION_PT_CODE)\n",
    "\n",
    "glimpse(odbus_apr)\n",
    "```\n",
    "\n",
    "    Rows: 5,667,461\n",
    "    Columns: 7\n",
    "    $ YEAR_MONTH          <chr> \"2024-04\", \"2024-04\", \"2024-04\", \"2024-04\", \"2024-…\n",
    "    $ DAY_TYPE            <chr> \"WEEKENDS/HOLIDAY\", \"WEEKDAY\", \"WEEKENDS/HOLIDAY\",…\n",
    "    $ TIME_PER_HOUR       <dbl> 16, 16, 14, 14, 17, 17, 17, 17, 7, 17, 14, 10, 20,…\n",
    "    $ PT_TYPE             <chr> \"BUS\", \"BUS\", \"BUS\", \"BUS\", \"BUS\", \"BUS\", \"BUS\", \"…\n",
    "    $ ORIGIN_PT_CODE      <fct> 04168, 04168, 80119, 80119, 44069, 44069, 20281, 2…\n",
    "    $ DESTINATION_PT_CODE <fct> 10051, 10051, 90079, 90079, 17229, 17229, 20141, 2…\n",
    "    $ TOTAL_TRIPS         <dbl> 2, 9, 6, 8, 1, 2, 17, 2, 6, 2, 5, 3, 7, 1, 5, 2, 1…\n",
    "\n",
    "## May 2024\n",
    "\n",
    "``` r\n",
    "odbus_may$ORIGIN_PT_CODE <- as.factor(odbus_may$ORIGIN_PT_CODE)\n",
    "\n",
    "odbus_may$DESTINATION_PT_CODE <- as.factor(odbus_may$DESTINATION_PT_CODE)\n",
    "\n",
    "glimpse(odbus_may)\n",
    "```\n",
    "\n",
    "    Rows: 5,731,170\n",
    "    Columns: 7\n",
    "    $ YEAR_MONTH          <chr> \"2024-05\", \"2024-05\", \"2024-05\", \"2024-05\", \"2024-…\n",
    "    $ DAY_TYPE            <chr> \"WEEKDAY\", \"WEEKENDS/HOLIDAY\", \"WEEKDAY\", \"WEEKDAY…\n",
    "    $ TIME_PER_HOUR       <dbl> 17, 10, 10, 7, 7, 11, 16, 16, 16, 5, 11, 11, 18, 1…\n",
    "    $ PT_TYPE             <chr> \"BUS\", \"BUS\", \"BUS\", \"BUS\", \"BUS\", \"BUS\", \"BUS\", \"…\n",
    "    $ ORIGIN_PT_CODE      <fct> 24499, 65239, 65239, 23519, 23519, 52509, 03151, 5…\n",
    "    $ DESTINATION_PT_CODE <fct> 22221, 65159, 65159, 23311, 23311, 42041, 11161, 5…\n",
    "    $ TOTAL_TRIPS         <dbl> 3, 3, 3, 1, 1, 2, 15, 3, 2, 1, 2, 4, 5, 4, 9, 43, …\n",
    "\n",
    "## Jun 2024\n",
    "\n",
    "``` r\n",
    "odbus_jun$ORIGIN_PT_CODE <- as.factor(odbus_jun$ORIGIN_PT_CODE)\n",
    "\n",
    "odbus_jun$DESTINATION_PT_CODE <- as.factor(odbus_jun$DESTINATION_PT_CODE)\n",
    "\n",
    "glimpse(odbus_jun)\n",
    "```\n",
    "\n",
    "    Rows: 5,658,443\n",
    "    Columns: 7\n",
    "    $ YEAR_MONTH          <chr> \"2024-06\", \"2024-06\", \"2024-06\", \"2024-06\", \"2024-…\n",
    "    $ DAY_TYPE            <chr> \"WEEKENDS/HOLIDAY\", \"WEEKDAY\", \"WEEKENDS/HOLIDAY\",…\n",
    "    $ TIME_PER_HOUR       <dbl> 21, 17, 9, 14, 13, 6, 0, 22, 8, 18, 12, 19, 10, 10…\n",
    "    $ PT_TYPE             <chr> \"BUS\", \"BUS\", \"BUS\", \"BUS\", \"BUS\", \"BUS\", \"BUS\", \"…\n",
    "    $ ORIGIN_PT_CODE      <fct> 82159, 98299, 43051, 59479, 52069, 21421, 81029, 2…\n",
    "    $ DESTINATION_PT_CODE <fct> 01119, 97051, 44389, 59509, 52189, 09179, 07211, 2…\n",
    "    $ TOTAL_TRIPS         <dbl> 1, 43, 7, 1, 20, 2, 2, 3, 36, 15, 1, 2, 65, 1, 11,…\n",
    "\n",
    "## Geospatial Data"
   ],
   "id": "826ba34b-a577-4060-9bf9-0c44518e4a01"
  },
  {
   "cell_type": "code",
   "execution_count": null,
   "metadata": {},
   "outputs": [
    {
     "output_type": "stream",
     "name": "stdout",
     "text": [
      "Reading layer `BusStop' from data source \n",
      "  `C:\\sihuihui\\mitbcapstone\\notebooks\\data\\spatial' using driver `ESRI Shapefile'\n",
      "Simple feature collection with 5166 features and 3 fields\n",
      "Geometry type: POINT\n",
      "Dimension:     XY\n",
      "Bounding box:  xmin: 3970.122 ymin: 26482.1 xmax: 48285.52 ymax: 52983.82\n",
      "Projected CRS: SVY21"
     ]
    },
    {
     "output_type": "stream",
     "name": "stdout",
     "text": [
      "Rows: 5,166\n",
      "Columns: 4\n",
      "$ BUS_STOP_N <chr> \"65059\", \"16171\", \"61101\", \"01239\", \"17269\", \"11291\", \"1153…\n",
      "$ BUS_ROOF_N <chr> \"B12\", \"B06\", \"NIL\", \"B01\", \"B01\", \"B17\", \"B12\", \"B05\", \"B0…\n",
      "$ LOC_DESC   <chr> \"ST ANNE'S CH\", \"YUSOF ISHAK HSE\", \"BLK 120\", \"SULTAN PLAZA…\n",
      "$ geometry   <POINT [m]> POINT (35565.66 41659.52), POINT (21439.91 31253.63),…"
     ]
    }
   ],
   "source": [
    "busstop <- st_read(dsn = \"data/spatial\",\n",
    "                   layer = \"BusStop\")\n"
   ],
   "id": "5fe9be1e-aacf-4dc6-a3bc-e8358f48c9fe"
  },
  {
   "cell_type": "code",
   "execution_count": null,
   "metadata": {},
   "outputs": [
    {
     "output_type": "stream",
     "name": "stdout",
     "text": [
      "Rows: 5,166\n",
      "Columns: 4\n",
      "$ BUS_STOP_N <chr> \"65059\", \"16171\", \"61101\", \"01239\", \"17269\", \"11291\", \"1153…\n",
      "$ BUS_ROOF_N <chr> \"B12\", \"B06\", \"NIL\", \"B01\", \"B01\", \"B17\", \"B12\", \"B05\", \"B0…\n",
      "$ LOC_DESC   <chr> \"ST ANNE'S CH\", \"YUSOF ISHAK HSE\", \"BLK 120\", \"SULTAN PLAZA…\n",
      "$ geometry   <POINT [m]> POINT (35565.66 41659.52), POINT (21439.91 31253.63),…"
     ]
    }
   ],
   "source": [
    "busstop <- st_transform(busstop, crs = 3414)\n",
    "glimpse(busstop)\n"
   ],
   "id": "d5a358f7-d517-48db-ae82-335eab45dcd4"
  },
  {
   "cell_type": "code",
   "execution_count": null,
   "metadata": {},
   "outputs": [
    {
     "output_type": "stream",
     "name": "stdout",
     "text": [
      "Simple feature collection with 5166 features and 3 fields\n",
      "Geometry type: POINT\n",
      "Dimension:     XY\n",
      "Bounding box:  xmin: 3970.122 ymin: 26482.1 xmax: 48285.52 ymax: 52983.82\n",
      "Projected CRS: SVY21 / Singapore TM\n",
      "First 10 features:\n",
      "   BUS_STOP_N BUS_ROOF_N                 LOC_DESC                  geometry\n",
      "1       65059        B12             ST ANNE'S CH POINT (35565.66 41659.52)\n",
      "2       16171        B06          YUSOF ISHAK HSE POINT (21439.91 31253.63)\n",
      "3       61101        NIL                  BLK 120 POINT (31381.06 35313.49)\n",
      "4       01239        B01             SULTAN PLAZA POINT (31152.55 31688.08)\n",
      "5       17269        B01                  BLK 730  POINT (20134.2 31917.38)\n",
      "6       11291        B17      COLD STORAGE JELITA POINT (22723.57 33349.85)\n",
      "7       11531        B12 OPP LEA HIN HARDWARE FTY POINT (25112.11 30368.68)\n",
      "8       46529        B05        OPP MARSILING STN POINT (21465.51 45974.12)\n",
      "9       95151        B01       AIRPORT POLICE STN POINT (44529.73 36038.38)\n",
      "10      71169        B01              AZTECH BLDG POINT (34541.04 34361.09)"
     ]
    }
   ],
   "source": [
    "busstop$BUS_STOP_N <- as.factor(busstop$BUS_STOP_N)\n",
    "busstop\n"
   ],
   "id": "31bfe104-a0ad-4fcb-aeba-e3ad48c3ec37"
  },
  {
   "cell_type": "code",
   "execution_count": null,
   "metadata": {},
   "outputs": [],
   "source": [
    "busstop <- write_rds(busstop, \"data/rds/busstop.rds\")\n"
   ],
   "id": "274b3ef6-2637-4ee0-a814-79aa1461de69"
  },
  {
   "cell_type": "code",
   "execution_count": null,
   "metadata": {},
   "outputs": [
    {
     "output_type": "stream",
     "name": "stdout",
     "text": [
      "Reading layer `MPSZ-2019' from data source \n",
      "  `C:\\sihuihui\\mitbcapstone\\notebooks\\data\\spatial' using driver `ESRI Shapefile'\n",
      "Simple feature collection with 332 features and 6 fields\n",
      "Geometry type: MULTIPOLYGON\n",
      "Dimension:     XY\n",
      "Bounding box:  xmin: 103.6057 ymin: 1.158699 xmax: 104.0885 ymax: 1.470775\n",
      "Geodetic CRS:  WGS 84"
     ]
    }
   ],
   "source": [
    "mpsz <- st_read(dsn = \"data/spatial\",\n",
    "                layer = \"MPSZ-2019\") \n"
   ],
   "id": "e3dae080-9892-4459-957f-35aef9bd1dff"
  },
  {
   "cell_type": "code",
   "execution_count": null,
   "metadata": {},
   "outputs": [
    {
     "output_type": "stream",
     "name": "stdout",
     "text": [
      "Simple feature collection with 332 features and 6 fields\n",
      "Geometry type: MULTIPOLYGON\n",
      "Dimension:     XY\n",
      "Bounding box:  xmin: 2667.538 ymin: 15748.72 xmax: 56396.44 ymax: 50256.33\n",
      "Projected CRS: SVY21 / Singapore TM\n",
      "First 10 features:\n",
      "                 SUBZONE_N SUBZONE_C       PLN_AREA_N PLN_AREA_C       REGION_N\n",
      "1              MARINA EAST    MESZ01      MARINA EAST         ME CENTRAL REGION\n",
      "2         INSTITUTION HILL    RVSZ05     RIVER VALLEY         RV CENTRAL REGION\n",
      "3           ROBERTSON QUAY    SRSZ01  SINGAPORE RIVER         SR CENTRAL REGION\n",
      "4  JURONG ISLAND AND BUKOM    WISZ01  WESTERN ISLANDS         WI    WEST REGION\n",
      "5             FORT CANNING    MUSZ02           MUSEUM         MU CENTRAL REGION\n",
      "6         MARINA EAST (MP)    MPSZ05    MARINE PARADE         MP CENTRAL REGION\n",
      "7                   SUDONG    WISZ03  WESTERN ISLANDS         WI    WEST REGION\n",
      "8                  SEMAKAU    WISZ02  WESTERN ISLANDS         WI    WEST REGION\n",
      "9           SOUTHERN GROUP    SISZ02 SOUTHERN ISLANDS         SI CENTRAL REGION\n",
      "10                 SENTOSA    SISZ01 SOUTHERN ISLANDS         SI CENTRAL REGION\n",
      "   REGION_C                       geometry\n",
      "1        CR MULTIPOLYGON (((33222.98 29...\n",
      "2        CR MULTIPOLYGON (((28481.45 30...\n",
      "3        CR MULTIPOLYGON (((28087.34 30...\n",
      "4        WR MULTIPOLYGON (((14557.7 304...\n",
      "5        CR MULTIPOLYGON (((29542.53 31...\n",
      "6        CR MULTIPOLYGON (((35279.55 30...\n",
      "7        WR MULTIPOLYGON (((15772.59 21...\n",
      "8        WR MULTIPOLYGON (((19843.41 21...\n",
      "9        CR MULTIPOLYGON (((30870.53 22...\n",
      "10       CR MULTIPOLYGON (((26879.04 26..."
     ]
    }
   ],
   "source": [
    "mpsz <- st_transform(mpsz, crs = 3414)\n",
    "mpsz\n"
   ],
   "id": "047bbf07-4511-4113-a8a4-2c8ce2291db5"
  },
  {
   "cell_type": "code",
   "execution_count": null,
   "metadata": {},
   "outputs": [],
   "source": [
    "mpsz <- write_rds(mpsz, \"data/rds/mpsz.rds\")\n"
   ],
   "id": "57cb5e79-d5ee-4c04-b2ab-94802e590910"
  },
  {
   "cell_type": "markdown",
   "metadata": {},
   "source": [
    "# Geospatial Data Wrangling"
   ],
   "id": "145d1939-49b0-426b-b2fa-7ca486a707a4"
  }
 ],
 "nbformat": 4,
 "nbformat_minor": 5,
 "metadata": {}
}
